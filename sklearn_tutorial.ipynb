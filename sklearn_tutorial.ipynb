{
 "cells": [
  {
   "cell_type": "markdown",
   "metadata": {},
   "source": [
    "# scikit-learn Introductory Tutorial\n",
    "\n",
    "[scikit-learning](http://scikit-learn.org/stable/index.html) is an open-sourced simple and efficient tools for data mining, data analysis and machine learning in Python. It is built on NumPy, SciPy and matplotlib. There are built-in classification, regression, and clustering models, as well as useful features like dimensionality reduction, evaluation and preprocessing. \n",
    "\n",
    "This tutorial is specifically tailored for NLP, i.e. working with text data. It will cover the following topics: loading data, simple preprocessing, training (supervised, semi-supervised, and unsupervised), and evaluation. A future tutorial will cover more advanced topics like feature extraction, building a pipeline, creating custom transformers, feature union, dimensionality reduction, etc.\n",
    "\n",
    "For this tutorial, we will use the [20 Newsgroups data set](http://qwone.com/~jason/20Newsgroups/) and perform topic classification. For the sake of time, I converted all the data into a CSV file. \n",
    "\n",
    "Note: apparently Jupyter disables spell-checker (or I just don't know how to enable it), so I'm only partially responsible for the typos in this tutorial. "
   ]
  },
  {
   "cell_type": "markdown",
   "metadata": {},
   "source": [
    "### 1. Loading Dataset\n",
    "\n",
    "For the sake of convenience, we will use pandas to read CSV file. (You may do so with numpy as well; there is a `loadtext()` function, but you might encounter encoding issues when using it. Before you begin, the dataset in the repo is a tarball, so in the terminal run ``tar xfz 20news-18828.csv.tar.gz`` to uncompress it."
   ]
  },
  {
   "cell_type": "code",
   "execution_count": 14,
   "metadata": {
    "collapsed": false
   },
   "outputs": [],
   "source": [
    "import pandas as pd\n",
    "\n",
    "dataset = pd.read_csv('20news-18828.csv', header=None, delimiter=',', names=['label', 'text'])"
   ]
  },
  {
   "cell_type": "markdown",
   "metadata": {},
   "source": [
    "Sanity check on the dataset."
   ]
  },
  {
   "cell_type": "code",
   "execution_count": 15,
   "metadata": {
    "collapsed": false
   },
   "outputs": [
    {
     "name": "stdout",
     "output_type": "stream",
     "text": [
      "There are 20 categories: True\n",
      "There are 18828 records: True\n"
     ]
    }
   ],
   "source": [
    "print(\"There are 20 categories: %s\" % (len(dataset.label.unique()) == 20))\n",
    "print(\"There are 18828 records: %s\" % (len(dataset) == 18828))"
   ]
  },
  {
   "cell_type": "markdown",
   "metadata": {},
   "source": [
    "Now we need to split it to train set and test set. To do so, we can use the `train_test_split()` function. In scikit-learn's convention, X indicates data (yeah, uppercase X), and y indicates truths (and yeah, lowercase y)."
   ]
  },
  {
   "cell_type": "code",
   "execution_count": 16,
   "metadata": {
    "collapsed": false
   },
   "outputs": [],
   "source": [
    "from sklearn.model_selection import train_test_split\n",
    "\n",
    "X_train, X_test, y_train, y_test = train_test_split(dataset.text, dataset.label, train_size=0.8)"
   ]
  },
  {
   "cell_type": "markdown",
   "metadata": {},
   "source": [
    "### 2. A Simple Example\n",
    "\n",
    "Before going too much into preprocessing, feature extraction and other more complicated tasks, we will do a relatively simple but complete example. In this example, we will use bag-of-words as features, and Naive Bayes as classifier to establish our baseline.\n",
    "\n",
    "There are some built-in vectorizers, `CountVectorizer` and `TfidfVectorizer` that we can use to vectorizer our raw data and perform preprocessing and feature exctration on it. First, we will experiment with `CountVectorizer` which basically makes a token/ngram a feature and stores its count in the corresponding feature space. The `fit_transform()` function is the combination of `fit()` and `transform()`. `fit()` learns the vocabulary/features of a document, and `transform()` transforms the dataset into a matrix."
   ]
  },
  {
   "cell_type": "code",
   "execution_count": 5,
   "metadata": {
    "collapsed": false
   },
   "outputs": [
    {
     "data": {
      "text/plain": [
       "(15062, 170461)"
      ]
     },
     "execution_count": 5,
     "metadata": {},
     "output_type": "execute_result"
    }
   ],
   "source": [
    "from sklearn.feature_extraction.text import CountVectorizer\n",
    "# initialize a CountVectorizer\n",
    "cv = CountVectorizer()\n",
    "# fit the raw data into the vectorizer and tranform it into a series of arrays\n",
    "X_train_counts = cv.fit_transform(X_train)\n",
    "X_train_counts.shape"
   ]
  },
  {
   "cell_type": "markdown",
   "metadata": {},
   "source": [
    "Similar thing needs to be done for the test set, but we only need to use the `transform()` function to transform the test data into a matrix. "
   ]
  },
  {
   "cell_type": "code",
   "execution_count": 6,
   "metadata": {
    "collapsed": false
   },
   "outputs": [
    {
     "data": {
      "text/plain": [
       "(3766, 170461)"
      ]
     },
     "execution_count": 6,
     "metadata": {},
     "output_type": "execute_result"
    }
   ],
   "source": [
    "X_test_counts = cv.transform(X_test)\n",
    "X_test_counts.shape"
   ]
  },
  {
   "cell_type": "markdown",
   "metadata": {},
   "source": [
    "Then, we fit our features and labels into a Naive Bayes classifier, which basically trains a model (if you fit the data more than once, it overwrites the parameters the model learns previously). After training, we can use it to perform prediction."
   ]
  },
  {
   "cell_type": "code",
   "execution_count": 7,
   "metadata": {
    "collapsed": false
   },
   "outputs": [
    {
     "name": "stdout",
     "output_type": "stream",
     "text": [
      "comp.sys.mac.hardware comp.sys.mac.hardware\n",
      "talk.politics.mideast talk.politics.mideast\n",
      "sci.med sci.med\n",
      "comp.graphics comp.graphics\n",
      "sci.med sci.med\n",
      "comp.sys.ibm.pc.hardware comp.sys.ibm.pc.hardware\n",
      "sci.med sci.med\n",
      "comp.windows.x comp.windows.x\n",
      "rec.sport.hockey rec.sport.hockey\n",
      "sci.electronics sci.electronics\n"
     ]
    }
   ],
   "source": [
    "from sklearn.naive_bayes import MultinomialNB\n",
    "clf = MultinomialNB().fit(X_train_counts, y_train)\n",
    "predicted = clf.predict(X_test_counts)\n",
    "\n",
    "# sample some of the predictions against the ground truths \n",
    "for prediction, truth in zip(predicted[:10], y_test[:10]):\n",
    "    print(prediction, truth)"
   ]
  },
  {
   "cell_type": "markdown",
   "metadata": {},
   "source": [
    "Let's do some legit evaluation. The `classification_report()` function gives you precison, recall and f1 scores for each label, and their average. If you want to calculate overall macro-averaged, micro-averaged or weighted performance, you can use the `precision_recall_fscore_support`. Finally, the `confusion_matrix()` can show you which labels are confusing to the model, but unfortunately, it does not include the labels. "
   ]
  },
  {
   "cell_type": "code",
   "execution_count": 8,
   "metadata": {
    "collapsed": false
   },
   "outputs": [
    {
     "name": "stdout",
     "output_type": "stream",
     "text": [
      "                          precision    recall  f1-score   support\n",
      "\n",
      "             alt.atheism       0.88      0.93      0.90       169\n",
      "           comp.graphics       0.65      0.91      0.76       190\n",
      " comp.os.ms-windows.misc       1.00      0.17      0.29       194\n",
      "comp.sys.ibm.pc.hardware       0.61      0.87      0.72       186\n",
      "   comp.sys.mac.hardware       0.92      0.80      0.85       172\n",
      "          comp.windows.x       0.75      0.90      0.82       185\n",
      "            misc.forsale       0.91      0.66      0.76       191\n",
      "               rec.autos       0.89      0.90      0.89       197\n",
      "         rec.motorcycles       0.97      0.93      0.95       206\n",
      "      rec.sport.baseball       0.97      0.98      0.97       178\n",
      "        rec.sport.hockey       0.97      0.96      0.96       185\n",
      "               sci.crypt       0.82      0.98      0.89       190\n",
      "         sci.electronics       0.88      0.79      0.83       202\n",
      "                 sci.med       0.98      0.90      0.94       214\n",
      "               sci.space       0.95      0.97      0.96       201\n",
      "  soc.religion.christian       0.79      0.97      0.87       236\n",
      "      talk.politics.guns       0.89      0.94      0.92       180\n",
      "   talk.politics.mideast       0.86      0.98      0.92       184\n",
      "      talk.politics.misc       0.82      0.90      0.86       183\n",
      "      talk.religion.misc       0.98      0.44      0.61       123\n",
      "\n",
      "             avg / total       0.87      0.85      0.84      3766\n",
      "\n",
      "Micro-averaged Performance:\n",
      "Precision: 0.8513011152416357, Recall: 0.8513011152416357, F1: 0.8513011152416357\n",
      "[[157   0   0   0   0   0   0   0   0   0   0   1   0   0   1   7   0   3\n",
      "    0   0]\n",
      " [  0 172   0   4   1   4   2   0   0   0   0   2   0   1   0   1   1   1\n",
      "    1   0]\n",
      " [  1  41  33  56   1  45   0   1   0   0   0   6   3   0   3   2   0   0\n",
      "    2   0]\n",
      " [  0  12   0 161   5   1   1   0   0   0   0   1   5   0   0   0   0   0\n",
      "    0   0]\n",
      " [  0   8   0  12 137   1   2   0   0   0   0   4   3   0   0   0   0   3\n",
      "    2   0]\n",
      " [  0   9   0   4   0 167   0   0   0   0   0   2   0   0   0   3   0   0\n",
      "    0   0]\n",
      " [  1   4   0  13   3   1 126  11   2   3   4   8   9   0   2   1   1   1\n",
      "    1   0]\n",
      " [  0   2   0   1   1   0   3 177   1   1   0   1   1   0   0   2   2   3\n",
      "    2   0]\n",
      " [  0   0   0   1   0   0   2   5 191   0   0   1   0   0   0   0   1   1\n",
      "    4   0]\n",
      " [  0   0   0   0   0   0   0   0   0 175   2   0   0   0   0   1   0   0\n",
      "    0   0]\n",
      " [  0   0   0   1   0   0   0   0   1   1 178   0   0   0   0   0   1   2\n",
      "    1   0]\n",
      " [  0   0   0   0   0   0   0   0   0   0   0 186   0   0   0   0   0   2\n",
      "    1   1]\n",
      " [  0   7   0  10   1   1   2   5   0   1   0  11 160   2   1   1   0   0\n",
      "    0   0]\n",
      " [  1   3   0   0   0   1   0   1   0   0   0   1   1 192   3   5   2   2\n",
      "    2   0]\n",
      " [  0   2   0   0   0   0   1   0   0   0   0   1   0   0 194   1   0   0\n",
      "    2   0]\n",
      " [  1   2   0   0   0   0   0   0   0   0   0   1   0   0   0 230   0   2\n",
      "    0   0]\n",
      " [  0   0   0   0   0   0   0   0   1   0   0   1   0   0   0   0 170   0\n",
      "    8   0]\n",
      " [  0   0   0   0   0   0   0   0   0   0   0   1   0   0   0   0   1 181\n",
      "    1   0]\n",
      " [  0   1   0   0   0   0   0   0   0   0   0   0   0   0   0   0   9   8\n",
      "  165   0]\n",
      " [ 17   0   0   0   0   1   0   0   0   0   0   0   0   1   0  37   3   2\n",
      "    8  54]]\n"
     ]
    }
   ],
   "source": [
    "from sklearn import metrics\n",
    "\n",
    "print(metrics.classification_report(y_test, predicted, labels=dataset.label.unique()))\n",
    "\n",
    "p, r, f1, _ = metrics.precision_recall_fscore_support(y_test, predicted, labels=dataset.label.unique(), average='micro')\n",
    "\n",
    "print(\"Micro-averaged Performance:\\nPrecision: {0}, Recall: {1}, F1: {2}\".format(p, r, f1))\n",
    "\n",
    "print(metrics.confusion_matrix(y_test, predicted, labels=dataset.label.unique()))"
   ]
  },
  {
   "cell_type": "markdown",
   "metadata": {},
   "source": [
    "### 3. Preprocessing & Feature Extraction\n",
    "\n"
   ]
  },
  {
   "cell_type": "markdown",
   "metadata": {
    "collapsed": false
   },
   "source": [
    "One may ask, \"how do I remove stop words, tokenize the texts differently, or use bigrams/trigrams as features?\" \n",
    "The answer is you can do all that when you initialize a [`CountVectorizer`](http://scikit-learn.org/stable/modules/generated/sklearn.feature_extraction.text.CountVectorizer.html) object, i.e. you can pass various arguments to the constructor. \n",
    "\n",
    "Here are some of them: `ngram_range` takes in a tuple (n_min, n_max). For example, `(2,2)` means only use bigrams, and `(1,3)` means use unigrams, bigrams, and trigrams. `stop_words` takes in a list of stopwords that you'd like to remove. If you want to use default stopword list in scikit-learn, pass in the string `'english'`. `tokenizer` is a function that takes in a string and returns a string, inside that function, you can define how to tokenize your text. By default, scikit-learn tokenization pattern is `u'(?u)\\b\\w\\w+\\b'`. Finally, `preprocessor` takes in a function of which the argument is a string and the output is a string. You can use it to perform more customized preprocessing. For more detail, please checkout the documentation for `CountVectorizer` or `TfidfVectorizer`.\n",
    "\n",
    "Let's start with defining a preprocessor to normalize all the numeric values, i.e. replacing numbers with the string `NUM`. Then, we construct a new `CountVectorizer`, and then use unigrams, bigrams, and trigrams as features, and remove stop words.  "
   ]
  },
  {
   "cell_type": "code",
   "execution_count": 8,
   "metadata": {
    "collapsed": false
   },
   "outputs": [],
   "source": [
    "import re\n",
    "def normalize_numbers(s):\n",
    "    return re.sub(r'\\b\\d+\\b', 'NUM', s)\n",
    "\n",
    "cv = CountVectorizer(preprocessor=normalize_numbers, ngram_range=(1,3), stop_words='english')"
   ]
  },
  {
   "cell_type": "markdown",
   "metadata": {},
   "source": [
    "Let's fit and transform the train data and transform the test data. The speed of preprocessing and feature extraction depends on the running time of each step. For example, the running time of stopword removal is O(N * M), where N is the vocabulary size of the document, and M is the stopword list size."
   ]
  },
  {
   "cell_type": "code",
   "execution_count": 9,
   "metadata": {
    "collapsed": false
   },
   "outputs": [
    {
     "ename": "KeyboardInterrupt",
     "evalue": "",
     "output_type": "error",
     "traceback": [
      "\u001b[0;31m---------------------------------------------------------------------------\u001b[0m",
      "\u001b[0;31mKeyboardInterrupt\u001b[0m                         Traceback (most recent call last)",
      "\u001b[0;32m<ipython-input-9-e1af5abe2e5b>\u001b[0m in \u001b[0;36m<module>\u001b[0;34m()\u001b[0m\n\u001b[1;32m      1\u001b[0m \u001b[0;31m# fit the raw data into the vectorizer and tranform it into a series of arrays\u001b[0m\u001b[0;34m\u001b[0m\u001b[0;34m\u001b[0m\u001b[0m\n\u001b[0;32m----> 2\u001b[0;31m \u001b[0mX_train_counts\u001b[0m \u001b[0;34m=\u001b[0m \u001b[0mcv\u001b[0m\u001b[0;34m.\u001b[0m\u001b[0mfit_transform\u001b[0m\u001b[0;34m(\u001b[0m\u001b[0mX_train\u001b[0m\u001b[0;34m)\u001b[0m\u001b[0;34m\u001b[0m\u001b[0m\n\u001b[0m\u001b[1;32m      3\u001b[0m \u001b[0mX_test_counts\u001b[0m \u001b[0;34m=\u001b[0m \u001b[0mcv\u001b[0m\u001b[0;34m.\u001b[0m\u001b[0mtransform\u001b[0m\u001b[0;34m(\u001b[0m\u001b[0mX_test\u001b[0m\u001b[0;34m)\u001b[0m\u001b[0;34m\u001b[0m\u001b[0m\n",
      "\u001b[0;32m/Users/justinso/anaconda3/lib/python3.5/site-packages/sklearn/feature_extraction/text.py\u001b[0m in \u001b[0;36mfit_transform\u001b[0;34m(self, raw_documents, y)\u001b[0m\n\u001b[1;32m    837\u001b[0m \u001b[0;34m\u001b[0m\u001b[0m\n\u001b[1;32m    838\u001b[0m         vocabulary, X = self._count_vocab(raw_documents,\n\u001b[0;32m--> 839\u001b[0;31m                                           self.fixed_vocabulary_)\n\u001b[0m\u001b[1;32m    840\u001b[0m \u001b[0;34m\u001b[0m\u001b[0m\n\u001b[1;32m    841\u001b[0m         \u001b[0;32mif\u001b[0m \u001b[0mself\u001b[0m\u001b[0;34m.\u001b[0m\u001b[0mbinary\u001b[0m\u001b[0;34m:\u001b[0m\u001b[0;34m\u001b[0m\u001b[0m\n",
      "\u001b[0;32m/Users/justinso/anaconda3/lib/python3.5/site-packages/sklearn/feature_extraction/text.py\u001b[0m in \u001b[0;36m_count_vocab\u001b[0;34m(self, raw_documents, fixed_vocab)\u001b[0m\n\u001b[1;32m    772\u001b[0m \u001b[0;34m\u001b[0m\u001b[0m\n\u001b[1;32m    773\u001b[0m             \u001b[0mj_indices\u001b[0m\u001b[0;34m.\u001b[0m\u001b[0mextend\u001b[0m\u001b[0;34m(\u001b[0m\u001b[0mfeature_counter\u001b[0m\u001b[0;34m.\u001b[0m\u001b[0mkeys\u001b[0m\u001b[0;34m(\u001b[0m\u001b[0;34m)\u001b[0m\u001b[0;34m)\u001b[0m\u001b[0;34m\u001b[0m\u001b[0m\n\u001b[0;32m--> 774\u001b[0;31m             \u001b[0mvalues\u001b[0m\u001b[0;34m.\u001b[0m\u001b[0mextend\u001b[0m\u001b[0;34m(\u001b[0m\u001b[0mfeature_counter\u001b[0m\u001b[0;34m.\u001b[0m\u001b[0mvalues\u001b[0m\u001b[0;34m(\u001b[0m\u001b[0;34m)\u001b[0m\u001b[0;34m)\u001b[0m\u001b[0;34m\u001b[0m\u001b[0m\n\u001b[0m\u001b[1;32m    775\u001b[0m             \u001b[0mindptr\u001b[0m\u001b[0;34m.\u001b[0m\u001b[0mappend\u001b[0m\u001b[0;34m(\u001b[0m\u001b[0mlen\u001b[0m\u001b[0;34m(\u001b[0m\u001b[0mj_indices\u001b[0m\u001b[0;34m)\u001b[0m\u001b[0;34m)\u001b[0m\u001b[0;34m\u001b[0m\u001b[0m\n\u001b[1;32m    776\u001b[0m \u001b[0;34m\u001b[0m\u001b[0m\n",
      "\u001b[0;31mKeyboardInterrupt\u001b[0m: "
     ]
    }
   ],
   "source": [
    "# fit the raw data into the vectorizer and tranform it into a series of arrays\n",
    "X_train_counts = cv.fit_transform(X_train)\n",
    "X_test_counts = cv.transform(X_test)"
   ]
  },
  {
   "cell_type": "markdown",
   "metadata": {},
   "source": [
    "Let's use the Naive Bayes classifier to train a new model and see if it works better. From the last section with out preprocessing or feature engineering, our precison, recall and F1 are in the mid 80s, but now we got 90 for each score."
   ]
  },
  {
   "cell_type": "code",
   "execution_count": 24,
   "metadata": {
    "collapsed": false
   },
   "outputs": [
    {
     "name": "stdout",
     "output_type": "stream",
     "text": [
      "                          precision    recall  f1-score   support\n",
      "\n",
      "             alt.atheism       0.89      0.94      0.91       152\n",
      "           comp.graphics       0.72      0.90      0.80       188\n",
      " comp.os.ms-windows.misc       0.87      0.80      0.83       205\n",
      "comp.sys.ibm.pc.hardware       0.82      0.87      0.84       189\n",
      "   comp.sys.mac.hardware       0.98      0.82      0.89       199\n",
      "          comp.windows.x       0.89      0.90      0.89       202\n",
      "            misc.forsale       0.89      0.78      0.83       193\n",
      "               rec.autos       0.96      0.92      0.94       194\n",
      "         rec.motorcycles       0.97      0.95      0.96       180\n",
      "      rec.sport.baseball       0.97      0.92      0.95       209\n",
      "        rec.sport.hockey       0.83      0.98      0.90       186\n",
      "               sci.crypt       0.92      0.96      0.94       193\n",
      "         sci.electronics       0.96      0.86      0.90       208\n",
      "                 sci.med       0.96      0.94      0.95       202\n",
      "               sci.space       0.94      0.96      0.95       206\n",
      "  soc.religion.christian       0.90      0.95      0.93       211\n",
      "      talk.politics.guns       0.90      0.98      0.94       174\n",
      "   talk.politics.mideast       0.90      0.99      0.95       182\n",
      "      talk.politics.misc       0.95      0.92      0.93       164\n",
      "      talk.religion.misc       0.93      0.66      0.77       129\n",
      "\n",
      "             avg / total       0.91      0.90      0.90      3766\n",
      "\n"
     ]
    }
   ],
   "source": [
    "clf = MultinomialNB().fit(X_train_counts, y_train)\n",
    "predicted = clf.predict(X_test_counts)\n",
    "print(metrics.classification_report(y_test, predicted, labels=dataset.label.unique()))"
   ]
  },
  {
   "cell_type": "markdown",
   "metadata": {},
   "source": [
    "Do you remember there are other vecotrizers that you can use? Walla, one of them is `TfidfVecotrizer`. LOL, what is tf-idf? It's on [Wikipedia](https://en.wikipedia.org/wiki/Tf%E2%80%93idf). It basically reflects how important a word/phrase is to a document in a corpus. The constructor of `TfidfVectorizer` takes in the same parameters as that of `CountVectorizer`, so you can perfrom the same preprocessing/feature extraction. Try to run the following block of code and see if using tf-idf will help improve the performance. There are some other parameters in the constructor that you can tweak when initializing the object, and they could affect the performance as well.   "
   ]
  },
  {
   "cell_type": "code",
   "execution_count": 12,
   "metadata": {
    "collapsed": false
   },
   "outputs": [
    {
     "name": "stdout",
     "output_type": "stream",
     "text": [
      "                          precision    recall  f1-score   support\n",
      "\n",
      "             alt.atheism       0.93      0.84      0.88       164\n",
      "           comp.graphics       0.80      0.75      0.77       185\n",
      " comp.os.ms-windows.misc       0.76      0.88      0.81       184\n",
      "comp.sys.ibm.pc.hardware       0.84      0.77      0.80       222\n",
      "   comp.sys.mac.hardware       0.91      0.83      0.87       171\n",
      "          comp.windows.x       0.91      0.84      0.87       192\n",
      "            misc.forsale       0.93      0.72      0.81       213\n",
      "               rec.autos       0.87      0.93      0.90       201\n",
      "         rec.motorcycles       0.94      0.96      0.95       183\n",
      "      rec.sport.baseball       0.94      0.91      0.93       196\n",
      "        rec.sport.hockey       0.96      0.99      0.97       213\n",
      "               sci.crypt       0.88      0.97      0.92       202\n",
      "         sci.electronics       0.92      0.82      0.87       206\n",
      "                 sci.med       0.95      0.84      0.89       203\n",
      "               sci.space       0.92      0.95      0.93       203\n",
      "  soc.religion.christian       0.48      0.98      0.64       175\n",
      "      talk.politics.guns       0.89      0.98      0.94       177\n",
      "   talk.politics.mideast       0.89      0.98      0.93       178\n",
      "      talk.politics.misc       0.99      0.73      0.84       172\n",
      "      talk.religion.misc       1.00      0.35      0.52       126\n",
      "\n",
      "             avg / total       0.88      0.86      0.86      3766\n",
      "\n"
     ]
    }
   ],
   "source": [
    "from sklearn.feature_extraction.text import TfidfVectorizer\n",
    "\n",
    "tv = TfidfVectorizer(preprocessor=normalize_numbers, ngram_range=(1,3), stop_words='english')\n",
    "X_train_tf = tv.fit_transform(X_train)\n",
    "X_test_tf = tv.transform(X_test)\n",
    "clf2 = MultinomialNB().fit(X_train_tf, y_train)\n",
    "predicted = clf2.predict(X_test_tf)\n",
    "print(metrics.classification_report(y_test, predicted, labels=dataset.label.unique()))"
   ]
  },
  {
   "cell_type": "markdown",
   "metadata": {},
   "source": [
    "Alternatively, if you like typing a longer block of code, you can use the `TfidfTransformer` to transform a word count matrix created by `CountVectorizer` into a tf-idf matrix."
   ]
  },
  {
   "cell_type": "code",
   "execution_count": null,
   "metadata": {
    "collapsed": true
   },
   "outputs": [],
   "source": [
    "from sklearn.feature_extraction.text import TfidfTransformer\n",
    "\n",
    "tfidf_transformer = TfidfTransformer()\n",
    "X_train_tfidf = tfidf_transformer.fit_transform(X_train_counts)\n",
    "X_test_tfidf = tfidf_transformer.transform(X_test_counts)"
   ]
  },
  {
   "cell_type": "markdown",
   "metadata": {},
   "source": [
    "### 4. Model Selection\n",
    "\n",
    "Depending on the size of your data and the nature your task, some classifiers might perform better than others. These days, Maximum Entropy is a very popular classifier for many machine learning tasks, and every often, it is used to establish the baseline for a task. So let's try the [logistic regression classifier](http://scikit-learn.org/stable/modules/generated/sklearn.linear_model.LogisticRegression.html) in scikit-learn (Maxent and logistic regression are virtually the same thing). Please note that this classifier is a lot slower than Naive Bayes, because of its mathematical attributes."
   ]
  },
  {
   "cell_type": "code",
   "execution_count": 15,
   "metadata": {
    "collapsed": false
   },
   "outputs": [
    {
     "name": "stdout",
     "output_type": "stream",
     "text": [
      "                          precision    recall  f1-score   support\n",
      "\n",
      "             alt.atheism       0.92      0.93      0.92       164\n",
      "           comp.graphics       0.76      0.78      0.77       185\n",
      " comp.os.ms-windows.misc       0.83      0.83      0.83       184\n",
      "comp.sys.ibm.pc.hardware       0.78      0.77      0.78       222\n",
      "   comp.sys.mac.hardware       0.81      0.85      0.83       171\n",
      "          comp.windows.x       0.85      0.79      0.82       192\n",
      "            misc.forsale       0.86      0.86      0.86       213\n",
      "               rec.autos       0.85      0.94      0.89       201\n",
      "         rec.motorcycles       0.97      0.94      0.95       183\n",
      "      rec.sport.baseball       0.94      0.95      0.95       196\n",
      "        rec.sport.hockey       0.97      0.98      0.97       213\n",
      "               sci.crypt       0.95      0.95      0.95       202\n",
      "         sci.electronics       0.86      0.84      0.85       206\n",
      "                 sci.med       0.92      0.94      0.93       203\n",
      "               sci.space       0.93      0.98      0.95       203\n",
      "  soc.religion.christian       0.90      0.95      0.93       175\n",
      "      talk.politics.guns       0.95      0.93      0.94       177\n",
      "   talk.politics.mideast       0.96      0.95      0.95       178\n",
      "      talk.politics.misc       0.91      0.85      0.88       172\n",
      "      talk.religion.misc       0.91      0.76      0.83       126\n",
      "\n",
      "             avg / total       0.89      0.89      0.89      3766\n",
      "\n"
     ]
    }
   ],
   "source": [
    "from sklearn.linear_model import LogisticRegression\n",
    "\n",
    "# for the sake of speed, we will just use all the default value of the constructor\n",
    "cv = CountVectorizer()\n",
    "X_train_counts = cv.fit_transform(X_train)\n",
    "X_test_counts = cv.transform(X_test)\n",
    "\n",
    "clf = LogisticRegression(solver='liblinear', max_iter=500, n_jobs=4)\n",
    "clf.fit(X_train_counts, y_train)\n",
    "predicted = clf.predict(X_test_counts)\n",
    "print(metrics.classification_report(y_test, predicted, labels=dataset.label.unique()))"
   ]
  },
  {
   "cell_type": "markdown",
   "metadata": {
    "collapsed": true
   },
   "source": [
    "There are many other supervised, semi-supervised and unsupervised algorithms, and many of them work almost the same: (1) initialize a classifier, (2) fit the feature matrix and truths of the train set, and (3) pass in the feature matrix of test set to perform prediction. \n",
    "\n",
    "The following is an example of semi-supervised algorithm, label spreading, which uses both labeled and unlabeled data to train a classifier. It is especially nice when you don't have too much annotated data."
   ]
  },
  {
   "cell_type": "code",
   "execution_count": 18,
   "metadata": {
    "collapsed": false
   },
   "outputs": [
    {
     "name": "stdout",
     "output_type": "stream",
     "text": [
      "Macro-averaged Performance:\n",
      "Precision: 0.0021242697822623476, Recall: 0.05, F1: 0.004075394803871626\n"
     ]
    },
    {
     "name": "stderr",
     "output_type": "stream",
     "text": [
      "/Users/justinso/anaconda3/lib/python3.5/site-packages/sklearn/metrics/classification.py:1113: UndefinedMetricWarning: Precision and F-score are ill-defined and being set to 0.0 in labels with no predicted samples.\n",
      "  'precision', 'predicted', average, warn_for)\n"
     ]
    }
   ],
   "source": [
    "from sklearn.semi_supervised import LabelSpreading\n",
    "from sklearn import preprocessing\n",
    "import numpy as np\n",
    "from sklearn.feature_extraction.text import CountVectorizer\n",
    "from sklearn import metrics\n",
    "\n",
    "label_prop_model = LabelSpreading()\n",
    "# randomly select some of the training data and use them as unlabeled data\n",
    "random_unlabeled_points = np.where(np.random.randint(0, 2, size=len(y_train)))\n",
    "labels = np.copy(y_train)\n",
    "# convert all labels into indecies, since we'll assign -1 to the unlabeled dataset\n",
    "le = preprocessing.LabelEncoder()\n",
    "le.fit(labels)\n",
    "# transforms labels to numeric values\n",
    "labels = le.transform(labels)\n",
    "labels[random_unlabeled_points] = -1\n",
    "labels_test = le.transform(y_test)\n",
    "\n",
    "# here we will need to limit the features space, because we are going to convert the sparse\n",
    "# matrices into dense ones required by the implementation of LabelSpreading. \n",
    "# Using dense matrices in general slows down training and takes up a lot of memory; therefore,\n",
    "# in most cases, it is not recommended.\n",
    "cv = CountVectorizer(max_features=100)\n",
    "X_train_counts = cv.fit_transform(X_train)\n",
    "X_test_counts = cv.transform(X_test)\n",
    "# toarray() here is to convert a sparse matrix into a dense matrix, as the latter is required\n",
    "# by the algorithm. \n",
    "label_prop_model.fit(X_train_counts.toarray(), labels)\n",
    "predicted = label_prop_model.predict(X_test_counts.toarray())\n",
    "\n",
    "# For this experiment, we are only using 100 most frequent words as features in the train set, \n",
    "# so the test results will be lousy. \n",
    "p, r, f1, _ = metrics.precision_recall_fscore_support(labels_test, predicted, average='macro')\n",
    "print(\"Macro-averaged Performance:\\nPrecision: {0}, Recall: {1}, F1: {2}\".format(p, r, f1))"
   ]
  },
  {
   "cell_type": "markdown",
   "metadata": {},
   "source": [
    "Finally, we are going to experiment a clustering (unsupervised) aglorithm, K means clustering. Generally speaking, it's one of the fastest and popular clustering algorithms. "
   ]
  },
  {
   "cell_type": "code",
   "execution_count": 20,
   "metadata": {
    "collapsed": false
   },
   "outputs": [
    {
     "ename": "KeyboardInterrupt",
     "evalue": "",
     "output_type": "error",
     "traceback": [
      "\u001b[0;31m---------------------------------------------------------------------------\u001b[0m",
      "\u001b[0;31mKeyboardInterrupt\u001b[0m                         Traceback (most recent call last)",
      "\u001b[0;32m<ipython-input-20-d13ed7eace0f>\u001b[0m in \u001b[0;36m<module>\u001b[0;34m()\u001b[0m\n\u001b[1;32m     10\u001b[0m \u001b[0;34m\u001b[0m\u001b[0m\n\u001b[1;32m     11\u001b[0m \u001b[0mkmeans\u001b[0m \u001b[0;34m=\u001b[0m \u001b[0mKMeans\u001b[0m\u001b[0;34m(\u001b[0m\u001b[0mn_clusters\u001b[0m\u001b[0;34m=\u001b[0m\u001b[0;36m20\u001b[0m\u001b[0;34m,\u001b[0m \u001b[0mrandom_state\u001b[0m\u001b[0;34m=\u001b[0m\u001b[0;36m0\u001b[0m\u001b[0;34m)\u001b[0m\u001b[0;34m\u001b[0m\u001b[0m\n\u001b[0;32m---> 12\u001b[0;31m \u001b[0mkmeans\u001b[0m\u001b[0;34m.\u001b[0m\u001b[0mfit\u001b[0m\u001b[0;34m(\u001b[0m\u001b[0mX_train_counts\u001b[0m\u001b[0;34m)\u001b[0m\u001b[0;34m\u001b[0m\u001b[0m\n\u001b[0m\u001b[1;32m     13\u001b[0m \u001b[0;31m# see the cluster label for each instance\u001b[0m\u001b[0;34m\u001b[0m\u001b[0;34m\u001b[0m\u001b[0m\n\u001b[1;32m     14\u001b[0m \u001b[0mprint\u001b[0m\u001b[0;34m(\u001b[0m\u001b[0mkmeans\u001b[0m\u001b[0;34m.\u001b[0m\u001b[0mlabels_\u001b[0m\u001b[0;34m)\u001b[0m\u001b[0;34m\u001b[0m\u001b[0m\n",
      "\u001b[0;32m/Users/justinso/anaconda3/lib/python3.5/site-packages/sklearn/cluster/k_means_.py\u001b[0m in \u001b[0;36mfit\u001b[0;34m(self, X, y)\u001b[0m\n\u001b[1;32m    887\u001b[0m                 \u001b[0mtol\u001b[0m\u001b[0;34m=\u001b[0m\u001b[0mself\u001b[0m\u001b[0;34m.\u001b[0m\u001b[0mtol\u001b[0m\u001b[0;34m,\u001b[0m \u001b[0mrandom_state\u001b[0m\u001b[0;34m=\u001b[0m\u001b[0mrandom_state\u001b[0m\u001b[0;34m,\u001b[0m \u001b[0mcopy_x\u001b[0m\u001b[0;34m=\u001b[0m\u001b[0mself\u001b[0m\u001b[0;34m.\u001b[0m\u001b[0mcopy_x\u001b[0m\u001b[0;34m,\u001b[0m\u001b[0;34m\u001b[0m\u001b[0m\n\u001b[1;32m    888\u001b[0m                 \u001b[0mn_jobs\u001b[0m\u001b[0;34m=\u001b[0m\u001b[0mself\u001b[0m\u001b[0;34m.\u001b[0m\u001b[0mn_jobs\u001b[0m\u001b[0;34m,\u001b[0m \u001b[0malgorithm\u001b[0m\u001b[0;34m=\u001b[0m\u001b[0mself\u001b[0m\u001b[0;34m.\u001b[0m\u001b[0malgorithm\u001b[0m\u001b[0;34m,\u001b[0m\u001b[0;34m\u001b[0m\u001b[0m\n\u001b[0;32m--> 889\u001b[0;31m                 return_n_iter=True)\n\u001b[0m\u001b[1;32m    890\u001b[0m         \u001b[0;32mreturn\u001b[0m \u001b[0mself\u001b[0m\u001b[0;34m\u001b[0m\u001b[0m\n\u001b[1;32m    891\u001b[0m \u001b[0;34m\u001b[0m\u001b[0m\n",
      "\u001b[0;32m/Users/justinso/anaconda3/lib/python3.5/site-packages/sklearn/cluster/k_means_.py\u001b[0m in \u001b[0;36mk_means\u001b[0;34m(X, n_clusters, init, precompute_distances, n_init, max_iter, verbose, tol, random_state, copy_x, n_jobs, algorithm, return_n_iter)\u001b[0m\n\u001b[1;32m    343\u001b[0m                 \u001b[0mX\u001b[0m\u001b[0;34m,\u001b[0m \u001b[0mn_clusters\u001b[0m\u001b[0;34m,\u001b[0m \u001b[0mmax_iter\u001b[0m\u001b[0;34m=\u001b[0m\u001b[0mmax_iter\u001b[0m\u001b[0;34m,\u001b[0m \u001b[0minit\u001b[0m\u001b[0;34m=\u001b[0m\u001b[0minit\u001b[0m\u001b[0;34m,\u001b[0m \u001b[0mverbose\u001b[0m\u001b[0;34m=\u001b[0m\u001b[0mverbose\u001b[0m\u001b[0;34m,\u001b[0m\u001b[0;34m\u001b[0m\u001b[0m\n\u001b[1;32m    344\u001b[0m                 \u001b[0mprecompute_distances\u001b[0m\u001b[0;34m=\u001b[0m\u001b[0mprecompute_distances\u001b[0m\u001b[0;34m,\u001b[0m \u001b[0mtol\u001b[0m\u001b[0;34m=\u001b[0m\u001b[0mtol\u001b[0m\u001b[0;34m,\u001b[0m\u001b[0;34m\u001b[0m\u001b[0m\n\u001b[0;32m--> 345\u001b[0;31m                 x_squared_norms=x_squared_norms, random_state=random_state)\n\u001b[0m\u001b[1;32m    346\u001b[0m             \u001b[0;31m# determine if these results are the best so far\u001b[0m\u001b[0;34m\u001b[0m\u001b[0;34m\u001b[0m\u001b[0m\n\u001b[1;32m    347\u001b[0m             \u001b[0;32mif\u001b[0m \u001b[0mbest_inertia\u001b[0m \u001b[0;32mis\u001b[0m \u001b[0;32mNone\u001b[0m \u001b[0;32mor\u001b[0m \u001b[0minertia\u001b[0m \u001b[0;34m<\u001b[0m \u001b[0mbest_inertia\u001b[0m\u001b[0;34m:\u001b[0m\u001b[0;34m\u001b[0m\u001b[0m\n",
      "\u001b[0;32m/Users/justinso/anaconda3/lib/python3.5/site-packages/sklearn/cluster/k_means_.py\u001b[0m in \u001b[0;36m_kmeans_single_lloyd\u001b[0;34m(X, n_clusters, max_iter, init, verbose, x_squared_norms, random_state, tol, precompute_distances)\u001b[0m\n\u001b[1;32m    494\u001b[0m         \u001b[0;32mif\u001b[0m \u001b[0msp\u001b[0m\u001b[0;34m.\u001b[0m\u001b[0missparse\u001b[0m\u001b[0;34m(\u001b[0m\u001b[0mX\u001b[0m\u001b[0;34m)\u001b[0m\u001b[0;34m:\u001b[0m\u001b[0;34m\u001b[0m\u001b[0m\n\u001b[1;32m    495\u001b[0m             centers = _k_means._centers_sparse(X, labels, n_clusters,\n\u001b[0;32m--> 496\u001b[0;31m                                                distances)\n\u001b[0m\u001b[1;32m    497\u001b[0m         \u001b[0;32melse\u001b[0m\u001b[0;34m:\u001b[0m\u001b[0;34m\u001b[0m\u001b[0m\n\u001b[1;32m    498\u001b[0m             \u001b[0mcenters\u001b[0m \u001b[0;34m=\u001b[0m \u001b[0m_k_means\u001b[0m\u001b[0;34m.\u001b[0m\u001b[0m_centers_dense\u001b[0m\u001b[0;34m(\u001b[0m\u001b[0mX\u001b[0m\u001b[0;34m,\u001b[0m \u001b[0mlabels\u001b[0m\u001b[0;34m,\u001b[0m \u001b[0mn_clusters\u001b[0m\u001b[0;34m,\u001b[0m \u001b[0mdistances\u001b[0m\u001b[0;34m)\u001b[0m\u001b[0;34m\u001b[0m\u001b[0m\n",
      "\u001b[0;31mKeyboardInterrupt\u001b[0m: "
     ]
    }
   ],
   "source": [
    "from sklearn.cluster import KMeans\n",
    "import numpy as np\n",
    "from sklearn.model_selection import train_test_split\n",
    "from sklearn.feature_extraction.text import CountVectorizer\n",
    "\n",
    "X_train, X_test, y_train, y_test = train_test_split(dataset.text, dataset.label, train_size=0.8)\n",
    "# I reduced the number of features here just to make training a little faster\n",
    "cv = CountVectorizer(max_features=200)\n",
    "X_train_counts = cv.fit_transform(X_train)\n",
    "X_test_counts = cv.transform(X_test)\n",
    "\n",
    "kmeans = KMeans(n_clusters=20, random_state=0)\n",
    "kmeans.fit(X_train_counts)\n",
    "# see the cluster label for each instance\n",
    "print(kmeans.labels_)\n",
    "print(kmeans.predict(X_test_counts))\n",
    "\n",
    "# you can also pass in the labels, if you have some annotated data\n",
    "kmeans.fit(X_train_counts, y_train)\n",
    "print(kmeans.labels_)\n",
    "print(kmeans.predict(X_test_counts))\n"
   ]
  },
  {
   "cell_type": "markdown",
   "metadata": {},
   "source": [
    "### 5. More on Evaluation\n",
    "In some examples above, we have talked about the ways to calculate precision, recall and F1; therefore, we are not going to repeat that for this section. Here, we are going to conclude this introductory tutorial with [cross-validation](https://www.youtube.com/watch?v=TIgfjmp-4BA). There are many strategies for cross validation, and scikit-learn has [a rich selection for them](http://scikit-learn.org/stable/modules/cross_validation.html); for the purpose of demonstration, we will using K-fold cross validation (and it's widely used in NLP). "
   ]
  },
  {
   "cell_type": "code",
   "execution_count": null,
   "metadata": {
    "collapsed": true
   },
   "outputs": [],
   "source": [
    "from sklearn.model_selection import KFold\n"
   ]
  }
 ],
 "metadata": {
  "anaconda-cloud": {},
  "kernelspec": {
   "display_name": "Python [conda root]",
   "language": "python",
   "name": "conda-root-py"
  }
 },
 "nbformat": 4,
 "nbformat_minor": 0
}
